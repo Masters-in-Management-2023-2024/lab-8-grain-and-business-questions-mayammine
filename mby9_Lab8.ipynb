{
  "cells": [
    {
      "cell_type": "markdown",
      "metadata": {
        "id": "QkFc0hAG1r-u"
      },
      "source": [
        "# Diamond Company Analytics Challenge\n",
        "\n",
        "**Time:** 35 minutes\n",
        "\n",
        "**Scenario:** You are the new data analyst at a prestigious diamond company. The CEO has called an urgent meeting and needs answers to critical business questions about the inventory.\n",
        "\n",
        "**Your Mission:** Analyze the diamond inventory data and provide insights to guide strategic decisions."
      ]
    },
    {
      "cell_type": "code",
      "execution_count": 3,
      "metadata": {
        "id": "Ma4_N7aL1r-4",
        "colab": {
          "base_uri": "https://localhost:8080/"
        },
        "outputId": "a23a507b-c6e9-4f3b-e566-fa089c734a7f"
      },
      "outputs": [
        {
          "output_type": "stream",
          "name": "stdout",
          "text": [
            "Loading diamonds dataset...\n",
            "Dataset loaded successfully!\n"
          ]
        }
      ],
      "source": [
        "import polars as pl\n",
        "\n",
        "# Load the diamonds dataset\n",
        "print(\"Loading diamonds dataset...\")\n",
        "df = pl.read_csv('https://raw.githubusercontent.com/pycaret/pycaret/master/datasets/diamond.csv')\n",
        "print(\"Dataset loaded successfully!\")"
      ]
    },
    {
      "cell_type": "markdown",
      "metadata": {
        "id": "09beZjPH1r-6"
      },
      "source": [
        "## Section 1: Initial Inventory Assessment (5 minutes)\n",
        "\n",
        "The CEO walks in: \"Before we dive into specifics, I need to understand what we're working with. Give me the basics about our inventory database.\""
      ]
    },
    {
      "cell_type": "markdown",
      "metadata": {
        "id": "KmNOUCHs1r-6"
      },
      "source": [
        "### Question 1: \"How extensive is our inventory database?\"\n",
        "\n",
        "The CEO needs to know the scale of data you're analyzing."
      ]
    },
    {
      "cell_type": "code",
      "execution_count": 8,
      "metadata": {
        "id": "6HXyY4vd1r-7",
        "colab": {
          "base_uri": "https://localhost:8080/"
        },
        "outputId": "863e2371-b641-40e6-b68c-de17bc49d091"
      },
      "outputs": [
        {
          "output_type": "stream",
          "name": "stdout",
          "text": [
            "Our inventory database has 6000 rows and 8 columns.\n"
          ]
        }
      ],
      "source": [
        "# Your code here:\n",
        "\n",
        "print(f\"Our inventory database has {df.height} rows and {df.width} columns.\")"
      ]
    },
    {
      "cell_type": "markdown",
      "metadata": {
        "id": "A6wJ7Djz1r-7"
      },
      "source": [
        "### Question 2: \"What information do we track about each diamond?\"\n",
        "\n",
        "List all the characteristics we record."
      ]
    },
    {
      "cell_type": "code",
      "execution_count": 13,
      "metadata": {
        "id": "pOoi7fVM1r-7",
        "colab": {
          "base_uri": "https://localhost:8080/"
        },
        "outputId": "cb1e72b7-ac7e-4f2a-fb2a-c7c09f9089bd"
      },
      "outputs": [
        {
          "output_type": "stream",
          "name": "stdout",
          "text": [
            "The information we're tracking about each diamonds, or the columns are:\n"
          ]
        },
        {
          "output_type": "execute_result",
          "data": {
            "text/plain": [
              "['Carat Weight',\n",
              " 'Cut',\n",
              " 'Color',\n",
              " 'Clarity',\n",
              " 'Polish',\n",
              " 'Symmetry',\n",
              " 'Report',\n",
              " 'Price']"
            ]
          },
          "metadata": {},
          "execution_count": 13
        }
      ],
      "source": [
        "# Your code here:\n",
        "print(\"The information we're tracking about each diamonds, or the columns are:\")\n",
        "df.columns"
      ]
    },
    {
      "cell_type": "markdown",
      "metadata": {
        "id": "Oar-zbtv1r-8"
      },
      "source": [
        "### Question 3: \"When I look at one line in this database, what am I looking at?\"\n",
        "\n",
        "Explain in business terms:"
      ]
    },
    {
      "cell_type": "markdown",
      "metadata": {
        "id": "5rppKpYd1r-8"
      },
      "source": [
        "**Your answer:** Each row represents:\n",
        "A diamond in our inventory, and characteristics about the diamond (specifically, carat weight, cut, color, clarity, polish, summetry, report, price)."
      ]
    },
    {
      "cell_type": "markdown",
      "metadata": {
        "id": "0xMA-Mnv1r-9"
      },
      "source": [
        "## Section 2: Strategic Business Questions (20 minutes)\n",
        "\n",
        "The CEO continues: \"Now let's get to the important questions. Our board meeting is tomorrow and I need concrete numbers.\""
      ]
    },
    {
      "cell_type": "markdown",
      "metadata": {
        "id": "mNSM3Shu1r--"
      },
      "source": [
        "### Question 4: \"We're considering expanding our storage facilities. How many total carats do we have in inventory? I need to know if our vaults can handle the weight.\"\n",
        "\n",
        "Think about what measurement would help answer this."
      ]
    },
    {
      "cell_type": "code",
      "execution_count": 25,
      "metadata": {
        "id": "hQvq1Xi41r--",
        "colab": {
          "base_uri": "https://localhost:8080/"
        },
        "outputId": "327bd03b-2e94-457b-db75-4e497023b488"
      },
      "outputs": [
        {
          "output_type": "stream",
          "name": "stdout",
          "text": [
            "We have 8,007.120 total carat weight in our inventory.\n"
          ]
        }
      ],
      "source": [
        "# Your code here:\n",
        "total_carats = df['Carat Weight'].sum()\n",
        "\n",
        "print(f\"We have {total_carats:,.3f} total carat weight in our inventory.\")"
      ]
    },
    {
      "cell_type": "markdown",
      "metadata": {
        "id": "yJgK6Nil1r--"
      },
      "source": [
        "### Question 5: \"Our new marketing campaign claims we have 'the widest variety of cuts in the industry.' Can you verify this?\"\n",
        "\n",
        "The CEO wants to know about variety, not quantity."
      ]
    },
    {
      "cell_type": "code",
      "execution_count": 26,
      "metadata": {
        "id": "Yj9GlHEy1r--",
        "colab": {
          "base_uri": "https://localhost:8080/",
          "height": 273
        },
        "outputId": "76a50f2e-79a9-4f77-a5bf-588ea7c12971"
      },
      "outputs": [
        {
          "output_type": "stream",
          "name": "stdout",
          "text": [
            "We have the following unique diamond cuts in our inventory:\n"
          ]
        },
        {
          "output_type": "execute_result",
          "data": {
            "text/plain": [
              "shape: (5,)\n",
              "Series: 'Cut' [str]\n",
              "[\n",
              "\t\"Good\"\n",
              "\t\"Signature-Ideal\"\n",
              "\t\"Very Good\"\n",
              "\t\"Ideal\"\n",
              "\t\"Fair\"\n",
              "]"
            ],
            "text/html": [
              "<div><style>\n",
              ".dataframe > thead > tr,\n",
              ".dataframe > tbody > tr {\n",
              "  text-align: right;\n",
              "  white-space: pre-wrap;\n",
              "}\n",
              "</style>\n",
              "<small>shape: (5,)</small><table border=\"1\" class=\"dataframe\"><thead><tr><th>Cut</th></tr><tr><td>str</td></tr></thead><tbody><tr><td>&quot;Good&quot;</td></tr><tr><td>&quot;Signature-Ideal&quot;</td></tr><tr><td>&quot;Very Good&quot;</td></tr><tr><td>&quot;Ideal&quot;</td></tr><tr><td>&quot;Fair&quot;</td></tr></tbody></table></div>"
            ]
          },
          "metadata": {},
          "execution_count": 26
        }
      ],
      "source": [
        "# Your code here:\n",
        "print(\"We have the following unique diamond cuts in our inventory:\")\n",
        "\n",
        "df['Cut'].unique()"
      ]
    },
    {
      "cell_type": "markdown",
      "metadata": {
        "id": "e1nXw4Ym1r-_"
      },
      "source": [
        "### Question 6: \"I'm meeting with our insurance company. They need to know our price exposure - what's our most and least valuable diamond?\""
      ]
    },
    {
      "cell_type": "code",
      "execution_count": 36,
      "metadata": {
        "id": "RO-YjEcj1r-_",
        "colab": {
          "base_uri": "https://localhost:8080/"
        },
        "outputId": "ec22693a-1de7-4589-cded-6990f56916e6"
      },
      "outputs": [
        {
          "output_type": "stream",
          "name": "stdout",
          "text": [
            "Our most valuable diamond is: shape: (1, 8)\n",
            "┌──────────────┬───────┬───────┬─────────┬────────┬──────────┬────────┬────────┐\n",
            "│ Carat Weight ┆ Cut   ┆ Color ┆ Clarity ┆ Polish ┆ Symmetry ┆ Report ┆ Price  │\n",
            "│ ---          ┆ ---   ┆ ---   ┆ ---     ┆ ---    ┆ ---      ┆ ---    ┆ ---    │\n",
            "│ f64          ┆ str   ┆ str   ┆ str     ┆ str    ┆ str      ┆ str    ┆ i64    │\n",
            "╞══════════════╪═══════╪═══════╪═════════╪════════╪══════════╪════════╪════════╡\n",
            "│ 2.79         ┆ Ideal ┆ D     ┆ IF      ┆ EX     ┆ EX       ┆ GIA    ┆ 101561 │\n",
            "└──────────────┴───────┴───────┴─────────┴────────┴──────────┴────────┴────────┘\n",
            "Our least valuable diamond is: shape: (1, 8)\n",
            "┌──────────────┬──────┬───────┬─────────┬────────┬──────────┬────────┬───────┐\n",
            "│ Carat Weight ┆ Cut  ┆ Color ┆ Clarity ┆ Polish ┆ Symmetry ┆ Report ┆ Price │\n",
            "│ ---          ┆ ---  ┆ ---   ┆ ---     ┆ ---    ┆ ---      ┆ ---    ┆ ---   │\n",
            "│ f64          ┆ str  ┆ str   ┆ str     ┆ str    ┆ str      ┆ str    ┆ i64   │\n",
            "╞══════════════╪══════╪═══════╪═════════╪════════╪══════════╪════════╪═══════╡\n",
            "│ 0.77         ┆ Good ┆ I     ┆ VS1     ┆ VG     ┆ G        ┆ AGSL   ┆ 2184  │\n",
            "└──────────────┴──────┴───────┴─────────┴────────┴──────────┴────────┴───────┘\n"
          ]
        }
      ],
      "source": [
        "# Your code here:\n",
        "\n",
        "most_valuable_diamond = df.sort(\"Price\", descending=True).head(1)\n",
        "print(f\"Our most valuable diamond is: {most_valuable_diamond}\")\n",
        "\n",
        "least_valuable_diamond = df.sort(\"Price\", descending=False).head(1)\n",
        "print(f\"Our least valuable diamond is: {least_valuable_diamond}\")"
      ]
    },
    {
      "cell_type": "markdown",
      "metadata": {
        "id": "Kg1b22Fd1r-_"
      },
      "source": [
        "### Question 7: \"Which color grades should we focus on in our premium line? I need typical prices across our color spectrum.\"\n",
        "\n",
        "The CEO wants to understand pricing patterns."
      ]
    },
    {
      "cell_type": "code",
      "execution_count": 50,
      "metadata": {
        "id": "q9ZinBR21r-_",
        "colab": {
          "base_uri": "https://localhost:8080/"
        },
        "outputId": "315a280b-0279-4332-a2bc-e9a8ad6638b3"
      },
      "outputs": [
        {
          "output_type": "stream",
          "name": "stdout",
          "text": [
            "Here is some information on the pricing patters on diamonds with different color grades:\n",
            "shape: (6, 5)\n",
            "┌───────┬───────────────┬───────────┬───────────┬───────┐\n",
            "│ Color ┆ Average_Price ┆ Max_Price ┆ Min_Price ┆ Count │\n",
            "│ ---   ┆ ---           ┆ ---       ┆ ---       ┆ ---   │\n",
            "│ str   ┆ f64           ┆ i64       ┆ i64       ┆ u32   │\n",
            "╞═══════╪═══════════════╪═══════════╪═══════════╪═══════╡\n",
            "│ D     ┆ 15255.783661  ┆ 101561    ┆ 2945      ┆ 661   │\n",
            "│ F     ┆ 12712.241856  ┆ 60188     ┆ 2648      ┆ 1013  │\n",
            "│ G     ┆ 12520.050633  ┆ 46861     ┆ 2579      ┆ 1501  │\n",
            "│ E     ┆ 11539.190231  ┆ 67240     ┆ 2548      ┆ 778   │\n",
            "│ H     ┆ 10487.347544  ┆ 36709     ┆ 2396      ┆ 1079  │\n",
            "│ I     ┆ 8989.636364   ┆ 31254     ┆ 2184      ┆ 968   │\n",
            "└───────┴───────────────┴───────────┴───────────┴───────┘\n",
            "From this table, we can see that diamonds with color grade D have the highest average price.\n",
            "They should therefore be considered for the premium line.\n"
          ]
        }
      ],
      "source": [
        "# Your code here:\n",
        "\n",
        "color_vs_price = df.group_by('Color').agg(\n",
        "    ((pl.col('Price').mean()).alias('Average_Price')),\n",
        "    ((pl.col('Price').max()).alias('Max_Price')),\n",
        "    ((pl.col('Price').min()).alias('Min_Price')),\n",
        "    (pl.len().alias('Count'))\n",
        ")\n",
        "\n",
        "print(\"Here is some information on the pricing patters on diamonds with different color grades:\")\n",
        "print(color_vs_price.sort('Average_Price', descending=True))\n",
        "\n",
        "print(\"From this table, we can see that diamonds with color grade D have the highest average price.\")\n",
        "print(\"They should therefore be considered for the premium line.\")"
      ]
    },
    {
      "cell_type": "markdown",
      "metadata": {
        "id": "0REJzLVW1r-_"
      },
      "source": [
        "**Reflection:** After analyzing by color, how has your view of the data changed? What does each row in your result represent now?"
      ]
    },
    {
      "cell_type": "markdown",
      "metadata": {
        "id": "if11OnGg1r-_"
      },
      "source": [
        "**Your answer:** New grain = Each row in this grouped table represents a different color grade for diamonds in our inventory, with information on each color's pricing patterns (average, maximum, and minimum prices)."
      ]
    },
    {
      "cell_type": "markdown",
      "metadata": {
        "id": "xM02_i_X1r-_"
      },
      "source": [
        "## Section 3: Advanced Strategic Analysis (10 minutes)\n",
        "\n",
        "The CEO leans forward: \"These next questions will shape our strategy for next year.\""
      ]
    },
    {
      "cell_type": "markdown",
      "metadata": {
        "id": "tdNm2a3g1r-_"
      },
      "source": [
        "### Question 8: \"We're thinking of specializing in certain clarity grades. For our investor deck, I need a complete breakdown showing: how many diamonds we have in each clarity grade, their typical price, and the total carats we're holding for each grade.\""
      ]
    },
    {
      "cell_type": "code",
      "execution_count": 49,
      "metadata": {
        "id": "yl4RPGcC1r_A",
        "colab": {
          "base_uri": "https://localhost:8080/",
          "height": 335
        },
        "outputId": "94bf192c-c3c7-4168-9ca1-7fed61395325"
      },
      "outputs": [
        {
          "output_type": "stream",
          "name": "stdout",
          "text": [
            "Here is some information on our diamonds' clarity grades:\n"
          ]
        },
        {
          "output_type": "execute_result",
          "data": {
            "text/plain": [
              "shape: (7, 5)\n",
              "┌─────────┬───────────────┬───────────────┬──────────────────┬───────┐\n",
              "│ Clarity ┆ Inventory_Qty ┆ Average_Price ┆ Sum_Carat_Weight ┆ Count │\n",
              "│ ---     ┆ ---           ┆ ---           ┆ ---              ┆ ---   │\n",
              "│ str     ┆ u32           ┆ f64           ┆ f64              ┆ u32   │\n",
              "╞═════════╪═══════════════╪═══════════════╪══════════════════╪═══════╡\n",
              "│ SI1     ┆ 2059          ┆ 8018.864012   ┆ 2563.69          ┆ 2059  │\n",
              "│ VS2     ┆ 1575          ┆ 11809.053333  ┆ 2170.81          ┆ 1575  │\n",
              "│ VS1     ┆ 1192          ┆ 13694.113255  ┆ 1682.74          ┆ 1192  │\n",
              "│ VVS2    ┆ 666           ┆ 14142.177177  ┆ 876.58           ┆ 666   │\n",
              "│ VVS1    ┆ 285           ┆ 16845.680702  ┆ 389.43           ┆ 285   │\n",
              "│ IF      ┆ 219           ┆ 22105.844749  ┆ 316.0            ┆ 219   │\n",
              "│ FL      ┆ 4             ┆ 63776.0       ┆ 7.87             ┆ 4     │\n",
              "└─────────┴───────────────┴───────────────┴──────────────────┴───────┘"
            ],
            "text/html": [
              "<div><style>\n",
              ".dataframe > thead > tr,\n",
              ".dataframe > tbody > tr {\n",
              "  text-align: right;\n",
              "  white-space: pre-wrap;\n",
              "}\n",
              "</style>\n",
              "<small>shape: (7, 5)</small><table border=\"1\" class=\"dataframe\"><thead><tr><th>Clarity</th><th>Inventory_Qty</th><th>Average_Price</th><th>Sum_Carat_Weight</th><th>Count</th></tr><tr><td>str</td><td>u32</td><td>f64</td><td>f64</td><td>u32</td></tr></thead><tbody><tr><td>&quot;SI1&quot;</td><td>2059</td><td>8018.864012</td><td>2563.69</td><td>2059</td></tr><tr><td>&quot;VS2&quot;</td><td>1575</td><td>11809.053333</td><td>2170.81</td><td>1575</td></tr><tr><td>&quot;VS1&quot;</td><td>1192</td><td>13694.113255</td><td>1682.74</td><td>1192</td></tr><tr><td>&quot;VVS2&quot;</td><td>666</td><td>14142.177177</td><td>876.58</td><td>666</td></tr><tr><td>&quot;VVS1&quot;</td><td>285</td><td>16845.680702</td><td>389.43</td><td>285</td></tr><tr><td>&quot;IF&quot;</td><td>219</td><td>22105.844749</td><td>316.0</td><td>219</td></tr><tr><td>&quot;FL&quot;</td><td>4</td><td>63776.0</td><td>7.87</td><td>4</td></tr></tbody></table></div>"
            ]
          },
          "metadata": {},
          "execution_count": 49
        }
      ],
      "source": [
        "# Your code here:\n",
        "\n",
        "clarity_grades = df.group_by('Clarity').agg(\n",
        "    (pl.col('Clarity').count().alias('Inventory_Qty')),\n",
        "    (pl.col('Price').mean().alias('Average_Price')),\n",
        "    (pl.col('Carat Weight').sum().alias('Sum_Carat_Weight')),\n",
        "    (pl.len().alias('Count'))\n",
        ")\n",
        "\n",
        "print(\"Here is some information on our diamonds' clarity grades:\")\n",
        "clarity_grades.sort(\"Inventory_Qty\", descending=True)"
      ]
    },
    {
      "cell_type": "markdown",
      "metadata": {
        "id": "TitGw7Aq1r_A"
      },
      "source": [
        "### Question 9: \"My luxury competitor claims they have the best prices for every cut-color combination. Show me our pricing structure across these combinations - I want to see where we're competitive.\""
      ]
    },
    {
      "cell_type": "code",
      "execution_count": 48,
      "metadata": {
        "id": "Qw2ZXH7X1r_A",
        "colab": {
          "base_uri": "https://localhost:8080/",
          "height": 461
        },
        "outputId": "b255445a-01c4-4234-e028-73620387553f"
      },
      "outputs": [
        {
          "output_type": "stream",
          "name": "stdout",
          "text": [
            "Here is some informaton on our pricing structure across cut-color combinations:\n"
          ]
        },
        {
          "output_type": "execute_result",
          "data": {
            "text/plain": [
              "shape: (30, 6)\n",
              "┌───────────┬───────┬──────────────┬───────────┬───────────┬───────┐\n",
              "│ Cut       ┆ Color ┆ Avg_Price    ┆ Max_Price ┆ Min_Price ┆ Count │\n",
              "│ ---       ┆ ---   ┆ ---          ┆ ---       ┆ ---       ┆ ---   │\n",
              "│ str       ┆ str   ┆ f64          ┆ i64       ┆ i64       ┆ u32   │\n",
              "╞═══════════╪═══════╪══════════════╪═══════════╪═══════════╪═══════╡\n",
              "│ Ideal     ┆ G     ┆ 13570.310145 ┆ 46861     ┆ 2870      ┆ 690   │\n",
              "│ Very Good ┆ G     ┆ 12354.013841 ┆ 44441     ┆ 2579      ┆ 578   │\n",
              "│ Ideal     ┆ H     ┆ 11527.700873 ┆ 36709     ┆ 2501      ┆ 458   │\n",
              "│ Very Good ┆ F     ┆ 12413.905495 ┆ 54256     ┆ 2693      ┆ 455   │\n",
              "│ Very Good ┆ H     ┆ 10056.106132 ┆ 35520     ┆ 2396      ┆ 424   │\n",
              "│ …         ┆ …     ┆ …            ┆ …         ┆ …         ┆ …     │\n",
              "│ Fair      ┆ F     ┆ 6063.625     ┆ 29368     ┆ 2648      ┆ 24    │\n",
              "│ Fair      ┆ H     ┆ 5908.5       ┆ 17242     ┆ 2594      ┆ 24    │\n",
              "│ Fair      ┆ G     ┆ 7345.52381   ┆ 23203     ┆ 2967      ┆ 21    │\n",
              "│ Fair      ┆ I     ┆ 4573.1875    ┆ 8999      ┆ 3166      ┆ 16    │\n",
              "│ Fair      ┆ D     ┆ 6058.25      ┆ 19079     ┆ 4105      ┆ 12    │\n",
              "└───────────┴───────┴──────────────┴───────────┴───────────┴───────┘"
            ],
            "text/html": [
              "<div><style>\n",
              ".dataframe > thead > tr,\n",
              ".dataframe > tbody > tr {\n",
              "  text-align: right;\n",
              "  white-space: pre-wrap;\n",
              "}\n",
              "</style>\n",
              "<small>shape: (30, 6)</small><table border=\"1\" class=\"dataframe\"><thead><tr><th>Cut</th><th>Color</th><th>Avg_Price</th><th>Max_Price</th><th>Min_Price</th><th>Count</th></tr><tr><td>str</td><td>str</td><td>f64</td><td>i64</td><td>i64</td><td>u32</td></tr></thead><tbody><tr><td>&quot;Ideal&quot;</td><td>&quot;G&quot;</td><td>13570.310145</td><td>46861</td><td>2870</td><td>690</td></tr><tr><td>&quot;Very Good&quot;</td><td>&quot;G&quot;</td><td>12354.013841</td><td>44441</td><td>2579</td><td>578</td></tr><tr><td>&quot;Ideal&quot;</td><td>&quot;H&quot;</td><td>11527.700873</td><td>36709</td><td>2501</td><td>458</td></tr><tr><td>&quot;Very Good&quot;</td><td>&quot;F&quot;</td><td>12413.905495</td><td>54256</td><td>2693</td><td>455</td></tr><tr><td>&quot;Very Good&quot;</td><td>&quot;H&quot;</td><td>10056.106132</td><td>35520</td><td>2396</td><td>424</td></tr><tr><td>&hellip;</td><td>&hellip;</td><td>&hellip;</td><td>&hellip;</td><td>&hellip;</td><td>&hellip;</td></tr><tr><td>&quot;Fair&quot;</td><td>&quot;F&quot;</td><td>6063.625</td><td>29368</td><td>2648</td><td>24</td></tr><tr><td>&quot;Fair&quot;</td><td>&quot;H&quot;</td><td>5908.5</td><td>17242</td><td>2594</td><td>24</td></tr><tr><td>&quot;Fair&quot;</td><td>&quot;G&quot;</td><td>7345.52381</td><td>23203</td><td>2967</td><td>21</td></tr><tr><td>&quot;Fair&quot;</td><td>&quot;I&quot;</td><td>4573.1875</td><td>8999</td><td>3166</td><td>16</td></tr><tr><td>&quot;Fair&quot;</td><td>&quot;D&quot;</td><td>6058.25</td><td>19079</td><td>4105</td><td>12</td></tr></tbody></table></div>"
            ]
          },
          "metadata": {},
          "execution_count": 48
        }
      ],
      "source": [
        "# Your code here:\n",
        "\n",
        "cut_color_combo = df.group_by(['Cut', 'Color']).agg(\n",
        "    (pl.col('Price').mean().alias('Avg_Price')),\n",
        "    (pl.col('Price').max().alias('Max_Price')),\n",
        "    (pl.col('Price').min().alias('Min_Price')),\n",
        "    (pl.len().alias('Count'))\n",
        ")\n",
        "\n",
        "print(\"Here is some informaton on our pricing structure across cut-color combinations:\")\n",
        "cut_color_combo.sort(\"Count\", descending=True)"
      ]
    },
    {
      "cell_type": "markdown",
      "metadata": {
        "id": "MLs0LGPW1r_A"
      },
      "source": [
        "**Reflection:** How specific is your analysis now? What level of detail does each row represent?"
      ]
    },
    {
      "cell_type": "markdown",
      "metadata": {
        "id": "TrJsbED11r_A"
      },
      "source": [
        "**Your answer:** New grain = Each row represents our diamonds' cut and color combinations that we have in  inventory, with information on pricing and quantity for each."
      ]
    },
    {
      "cell_type": "markdown",
      "metadata": {
        "id": "ik0iULRa1r_A"
      },
      "source": [
        "### Question 10: URGENT - \"Our biggest client is interested in purchasing entire inventory segments. They asked: 'Which color-cut combinations represent your highest total inventory value?' Show me the top 5 most valuable inventory segments by total worth, and include how many diamonds are in each segment.\"\n",
        "\n",
        "This is critical for tomorrow's negotiation."
      ]
    },
    {
      "cell_type": "code",
      "execution_count": 52,
      "metadata": {
        "id": "vq7qe6Ju1r_A",
        "colab": {
          "base_uri": "https://localhost:8080/",
          "height": 273
        },
        "outputId": "b188be2b-51b9-4105-8550-33f0651e2bed"
      },
      "outputs": [
        {
          "output_type": "stream",
          "name": "stdout",
          "text": [
            "Here are the top 5 most valuable color-cut inventory segments by total worth:\n"
          ]
        },
        {
          "output_type": "execute_result",
          "data": {
            "text/plain": [
              "shape: (5, 4)\n",
              "┌───────────┬───────┬─────────────┬───────┐\n",
              "│ Cut       ┆ Color ┆ Total_Worth ┆ Count │\n",
              "│ ---       ┆ ---   ┆ ---         ┆ ---   │\n",
              "│ str       ┆ str   ┆ i64         ┆ u32   │\n",
              "╞═══════════╪═══════╪═════════════╪═══════╡\n",
              "│ Ideal     ┆ G     ┆ 9363514     ┆ 690   │\n",
              "│ Very Good ┆ G     ┆ 7140620     ┆ 578   │\n",
              "│ Very Good ┆ F     ┆ 5648327     ┆ 455   │\n",
              "│ Ideal     ┆ F     ┆ 5346782     ┆ 363   │\n",
              "│ Ideal     ┆ H     ┆ 5279687     ┆ 458   │\n",
              "└───────────┴───────┴─────────────┴───────┘"
            ],
            "text/html": [
              "<div><style>\n",
              ".dataframe > thead > tr,\n",
              ".dataframe > tbody > tr {\n",
              "  text-align: right;\n",
              "  white-space: pre-wrap;\n",
              "}\n",
              "</style>\n",
              "<small>shape: (5, 4)</small><table border=\"1\" class=\"dataframe\"><thead><tr><th>Cut</th><th>Color</th><th>Total_Worth</th><th>Count</th></tr><tr><td>str</td><td>str</td><td>i64</td><td>u32</td></tr></thead><tbody><tr><td>&quot;Ideal&quot;</td><td>&quot;G&quot;</td><td>9363514</td><td>690</td></tr><tr><td>&quot;Very Good&quot;</td><td>&quot;G&quot;</td><td>7140620</td><td>578</td></tr><tr><td>&quot;Very Good&quot;</td><td>&quot;F&quot;</td><td>5648327</td><td>455</td></tr><tr><td>&quot;Ideal&quot;</td><td>&quot;F&quot;</td><td>5346782</td><td>363</td></tr><tr><td>&quot;Ideal&quot;</td><td>&quot;H&quot;</td><td>5279687</td><td>458</td></tr></tbody></table></div>"
            ]
          },
          "metadata": {},
          "execution_count": 52
        }
      ],
      "source": [
        "# Your code here:\n",
        "\n",
        "cut_color_worth = df.group_by(['Cut', 'Color']).agg(\n",
        "    (pl.col('Price').sum().alias('Total_Worth')),\n",
        "    (pl.len().alias('Count'))\n",
        ").sort('Total_Worth', descending=True)\n",
        "\n",
        "print(\"Here are the top 5 most valuable color-cut inventory segments by total worth:\")\n",
        "cut_color_worth.head(5)"
      ]
    },
    {
      "cell_type": "markdown",
      "metadata": {
        "id": "RDB_XPUK1r_B"
      },
      "source": [
        "## Debrief\n",
        "\n",
        "Congratulations! You've just completed your first day as the diamond company's data analyst.\n",
        "\n",
        "Remember:\n",
        "- CEOs speak in business language, not technical terms\n",
        "- Always understand what each row represents before analyzing\n",
        "- Business questions contain clues about which operations to use"
      ]
    }
  ],
  "metadata": {
    "kernelspec": {
      "display_name": "Python 3",
      "language": "python",
      "name": "python3"
    },
    "language_info": {
      "codemirror_mode": {
        "name": "ipython",
        "version": 3
      },
      "file_extension": ".py",
      "mimetype": "text/x-python",
      "name": "python",
      "nbconvert_exporter": "python",
      "pygments_lexer": "ipython3",
      "version": "3.12.0"
    },
    "colab": {
      "provenance": []
    }
  },
  "nbformat": 4,
  "nbformat_minor": 0
}